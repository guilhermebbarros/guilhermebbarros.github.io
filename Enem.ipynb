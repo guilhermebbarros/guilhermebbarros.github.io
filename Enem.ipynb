{
 "cells": [
  {
   "cell_type": "markdown",
   "metadata": {},
   "source": [
    "# Enem - How socioeconomic factors are tied to the final score \n",
    "\n",
    "In this project, I will use the publicly available data provided by the Brazilian government on the Exame Nacional do Ensino Médio (ENEM), the main entrance exam for most public universities in Brazil. Since the test is taken by millions of graduating high school students every year, analyzing this exam is very illuminating when trying to understand Brazilian education - specially the inequalities and injustices that are present in our system.\n",
    "\n",
    "The data I will analyze regards the 2014 ENEM and was obtained in https://dados.gov.br/. \n",
    "\n",
    "My main goals here are: \n",
    "1) To clean the data set and to make it usable for my analysis purposes.\n",
    "\n",
    "2) To analyze how different socioeconomic factors influence the ENEM scores. \n",
    "\n",
    "3) To train machine learning models to predict the scores based on socioeconomic factors. It is not my intention here to predict any particular score - the score itself depends on many features that are symply not available to us, and on the candidate itself. Nonetheless, the features should be somehow correlated with the scores - making it possible to construct a machine learning model that predicts, with some accuracy, the scores of candidates, as long as we have a large number of observations."
   ]
  },
  {
   "cell_type": "code",
   "execution_count": 171,
   "metadata": {},
   "outputs": [],
   "source": [
    "import numpy as np #NumPy\n",
    "import pandas as pd #pandas\n",
    "import seaborn as sns #seaborn\n",
    "from matplotlib import pyplot as plt #matplotlib\n",
    "import random #random\n",
    "%matplotlib inline\n",
    "\n",
    "sns.set_style('darkgrid')"
   ]
  },
  {
   "cell_type": "markdown",
   "metadata": {},
   "source": [
    "The data set is very large. There were about 9,500,000 candidates who took the 2014 test. Since it would be computationally very costly to work with this imense data set, I will randomly select a sample of 1,000,000 candidates and work with them as if they were a representative size of the candidate pool."
   ]
  },
  {
   "cell_type": "code",
   "execution_count": 172,
   "metadata": {
    "scrolled": false
   },
   "outputs": [],
   "source": [
    "n = 9500000\n",
    "s = 100000\n",
    "skip = sorted(random.sample(range(1, n+1),n-s)) #randomly choose only 1,000,000 observations from the data\n",
    "enem_df = pd.read_csv('MICRODADOS_ENEM_2014.csv', header = 0, nrows = 100000, sep=',', encoding='latin-1', skiprows = skip) #read the csv file"
   ]
  },
  {
   "cell_type": "code",
   "execution_count": 173,
   "metadata": {},
   "outputs": [
    {
     "data": {
      "text/html": [
       "<div>\n",
       "<style scoped>\n",
       "    .dataframe tbody tr th:only-of-type {\n",
       "        vertical-align: middle;\n",
       "    }\n",
       "\n",
       "    .dataframe tbody tr th {\n",
       "        vertical-align: top;\n",
       "    }\n",
       "\n",
       "    .dataframe thead th {\n",
       "        text-align: right;\n",
       "    }\n",
       "</style>\n",
       "<table border=\"1\" class=\"dataframe\">\n",
       "  <thead>\n",
       "    <tr style=\"text-align: right;\">\n",
       "      <th></th>\n",
       "      <th>NU_INSCRICAO</th>\n",
       "      <th>NU_ANO</th>\n",
       "      <th>COD_MUNICIPIO_RESIDENCIA</th>\n",
       "      <th>NO_MUNICIPIO_RESIDENCIA</th>\n",
       "      <th>COD_UF_RESIDENCIA</th>\n",
       "      <th>UF_RESIDENCIA</th>\n",
       "      <th>IN_ESTUDA_CLASSE_HOSPITALAR</th>\n",
       "      <th>COD_ESCOLA</th>\n",
       "      <th>COD_MUNICIPIO_ESC</th>\n",
       "      <th>NO_MUNICIPIO_ESC</th>\n",
       "      <th>...</th>\n",
       "      <th>Q067</th>\n",
       "      <th>Q068</th>\n",
       "      <th>Q069</th>\n",
       "      <th>Q070</th>\n",
       "      <th>Q071</th>\n",
       "      <th>Q072</th>\n",
       "      <th>Q073</th>\n",
       "      <th>Q074</th>\n",
       "      <th>Q075</th>\n",
       "      <th>Q076</th>\n",
       "    </tr>\n",
       "  </thead>\n",
       "  <tbody>\n",
       "    <tr>\n",
       "      <th>0</th>\n",
       "      <td>140000000012</td>\n",
       "      <td>2014</td>\n",
       "      <td>4314407</td>\n",
       "      <td>PELOTAS</td>\n",
       "      <td>43</td>\n",
       "      <td>RS</td>\n",
       "      <td>0</td>\n",
       "      <td>NaN</td>\n",
       "      <td>NaN</td>\n",
       "      <td>NaN</td>\n",
       "      <td>...</td>\n",
       "      <td>NaN</td>\n",
       "      <td>NaN</td>\n",
       "      <td>NaN</td>\n",
       "      <td>NaN</td>\n",
       "      <td>NaN</td>\n",
       "      <td>NaN</td>\n",
       "      <td>NaN</td>\n",
       "      <td>NaN</td>\n",
       "      <td>NaN</td>\n",
       "      <td>NaN</td>\n",
       "    </tr>\n",
       "    <tr>\n",
       "      <th>1</th>\n",
       "      <td>140000000401</td>\n",
       "      <td>2014</td>\n",
       "      <td>2610707</td>\n",
       "      <td>PAULISTA</td>\n",
       "      <td>26</td>\n",
       "      <td>PE</td>\n",
       "      <td>0</td>\n",
       "      <td>26115883.0</td>\n",
       "      <td>2610707.0</td>\n",
       "      <td>PAULISTA</td>\n",
       "      <td>...</td>\n",
       "      <td>NaN</td>\n",
       "      <td>NaN</td>\n",
       "      <td>NaN</td>\n",
       "      <td>NaN</td>\n",
       "      <td>NaN</td>\n",
       "      <td>NaN</td>\n",
       "      <td>NaN</td>\n",
       "      <td>NaN</td>\n",
       "      <td>NaN</td>\n",
       "      <td>NaN</td>\n",
       "    </tr>\n",
       "    <tr>\n",
       "      <th>2</th>\n",
       "      <td>140000000524</td>\n",
       "      <td>2014</td>\n",
       "      <td>5103403</td>\n",
       "      <td>CUIABA</td>\n",
       "      <td>51</td>\n",
       "      <td>MT</td>\n",
       "      <td>0</td>\n",
       "      <td>NaN</td>\n",
       "      <td>NaN</td>\n",
       "      <td>NaN</td>\n",
       "      <td>...</td>\n",
       "      <td>NaN</td>\n",
       "      <td>NaN</td>\n",
       "      <td>NaN</td>\n",
       "      <td>NaN</td>\n",
       "      <td>NaN</td>\n",
       "      <td>NaN</td>\n",
       "      <td>NaN</td>\n",
       "      <td>NaN</td>\n",
       "      <td>NaN</td>\n",
       "      <td>NaN</td>\n",
       "    </tr>\n",
       "    <tr>\n",
       "      <th>3</th>\n",
       "      <td>140000000671</td>\n",
       "      <td>2014</td>\n",
       "      <td>3147105</td>\n",
       "      <td>PARA DE MINAS</td>\n",
       "      <td>31</td>\n",
       "      <td>MG</td>\n",
       "      <td>0</td>\n",
       "      <td>NaN</td>\n",
       "      <td>NaN</td>\n",
       "      <td>NaN</td>\n",
       "      <td>...</td>\n",
       "      <td>NaN</td>\n",
       "      <td>NaN</td>\n",
       "      <td>NaN</td>\n",
       "      <td>NaN</td>\n",
       "      <td>NaN</td>\n",
       "      <td>NaN</td>\n",
       "      <td>NaN</td>\n",
       "      <td>NaN</td>\n",
       "      <td>NaN</td>\n",
       "      <td>NaN</td>\n",
       "    </tr>\n",
       "    <tr>\n",
       "      <th>4</th>\n",
       "      <td>140000000725</td>\n",
       "      <td>2014</td>\n",
       "      <td>1302603</td>\n",
       "      <td>MANAUS</td>\n",
       "      <td>13</td>\n",
       "      <td>AM</td>\n",
       "      <td>0</td>\n",
       "      <td>13027956.0</td>\n",
       "      <td>1302603.0</td>\n",
       "      <td>MANAUS</td>\n",
       "      <td>...</td>\n",
       "      <td>NaN</td>\n",
       "      <td>NaN</td>\n",
       "      <td>NaN</td>\n",
       "      <td>NaN</td>\n",
       "      <td>NaN</td>\n",
       "      <td>NaN</td>\n",
       "      <td>NaN</td>\n",
       "      <td>NaN</td>\n",
       "      <td>NaN</td>\n",
       "      <td>NaN</td>\n",
       "    </tr>\n",
       "  </tbody>\n",
       "</table>\n",
       "<p>5 rows × 166 columns</p>\n",
       "</div>"
      ],
      "text/plain": [
       "   NU_INSCRICAO  NU_ANO  COD_MUNICIPIO_RESIDENCIA NO_MUNICIPIO_RESIDENCIA  \\\n",
       "0  140000000012    2014                   4314407                 PELOTAS   \n",
       "1  140000000401    2014                   2610707                PAULISTA   \n",
       "2  140000000524    2014                   5103403                  CUIABA   \n",
       "3  140000000671    2014                   3147105           PARA DE MINAS   \n",
       "4  140000000725    2014                   1302603                  MANAUS   \n",
       "\n",
       "   COD_UF_RESIDENCIA UF_RESIDENCIA  IN_ESTUDA_CLASSE_HOSPITALAR  COD_ESCOLA  \\\n",
       "0                 43            RS                            0         NaN   \n",
       "1                 26            PE                            0  26115883.0   \n",
       "2                 51            MT                            0         NaN   \n",
       "3                 31            MG                            0         NaN   \n",
       "4                 13            AM                            0  13027956.0   \n",
       "\n",
       "   COD_MUNICIPIO_ESC NO_MUNICIPIO_ESC  ...  Q067 Q068  Q069  Q070  Q071  Q072  \\\n",
       "0                NaN              NaN  ...   NaN  NaN   NaN   NaN   NaN   NaN   \n",
       "1          2610707.0         PAULISTA  ...   NaN  NaN   NaN   NaN   NaN   NaN   \n",
       "2                NaN              NaN  ...   NaN  NaN   NaN   NaN   NaN   NaN   \n",
       "3                NaN              NaN  ...   NaN  NaN   NaN   NaN   NaN   NaN   \n",
       "4          1302603.0           MANAUS  ...   NaN  NaN   NaN   NaN   NaN   NaN   \n",
       "\n",
       "  Q073  Q074  Q075 Q076  \n",
       "0  NaN   NaN   NaN  NaN  \n",
       "1  NaN   NaN   NaN  NaN  \n",
       "2  NaN   NaN   NaN  NaN  \n",
       "3  NaN   NaN   NaN  NaN  \n",
       "4  NaN   NaN   NaN  NaN  \n",
       "\n",
       "[5 rows x 166 columns]"
      ]
     },
     "execution_count": 173,
     "metadata": {},
     "output_type": "execute_result"
    }
   ],
   "source": [
    "enem_df.head()"
   ]
  },
  {
   "cell_type": "markdown",
   "metadata": {},
   "source": [
    "I will create in the cell below a list with the column names from the socioeconomic questionaire. My end goal is to analyze, based on the answers to the questionaire and some other features (below), the scores obtained by different candidates."
   ]
  },
  {
   "cell_type": "code",
   "execution_count": 174,
   "metadata": {},
   "outputs": [],
   "source": [
    "cols = []\n",
    "for i in range(1,54):\n",
    "    cols.append('Q0' + str(i).zfill(2)) #Here, I want to insert append to the cols list Q01, Q02, ..., Q053"
   ]
  },
  {
   "cell_type": "markdown",
   "metadata": {},
   "source": [
    "In the next cells, add_cols is a list of interesting feature data. out_cols is a list of the output scores of the exam candidates for all five areas covered by the test. Finally, I am gonna merge all three lists together and select only the desired columns from our data frame. "
   ]
  },
  {
   "cell_type": "code",
   "execution_count": 175,
   "metadata": {
    "scrolled": false
   },
   "outputs": [],
   "source": [
    "add_cols = ['UF_RESIDENCIA', 'IDADE', 'TP_SEXO', 'NACIONALIDADE', 'TP_ESCOLA', 'IN_TP_ENSINO', 'TP_ESTADO_CIVIL', 'TP_COR_RACA'] #desired columns"
   ]
  },
  {
   "cell_type": "code",
   "execution_count": 176,
   "metadata": {},
   "outputs": [],
   "source": [
    "out_cols = ['NOTA_CN', 'NOTA_CH', 'NOTA_LC', 'NOTA_MT', 'NU_NOTA_REDACAO'] #output columns - they represent the scores. \n",
    "#NOTA_CN - Natural Sciences grade\n",
    "#NOTA_CH - Humanities grade\n",
    "#NOTA_LC - Languages and communication grade\n",
    "#NOTA_MT - Mathematics grade\n",
    "#NU_NOTA_REDACAO - Essay grade"
   ]
  },
  {
   "cell_type": "code",
   "execution_count": 177,
   "metadata": {},
   "outputs": [],
   "source": [
    "for col in add_cols:\n",
    "    cols.append(col) \n",
    "\n",
    "for col in out_cols:\n",
    "    cols.append(col)\n",
    "    \n",
    "enem_selected = enem_df[cols] #join all columns in the same list and choose the desired columns in enem_selected"
   ]
  },
  {
   "cell_type": "markdown",
   "metadata": {},
   "source": [
    "Next, I will plot a heat map for the null values of enem_selected. My goal is to see how the null values are distributed throughout the data set."
   ]
  },
  {
   "cell_type": "code",
   "execution_count": 178,
   "metadata": {},
   "outputs": [
    {
     "data": {
      "text/plain": [
       "<AxesSubplot:>"
      ]
     },
     "execution_count": 178,
     "metadata": {},
     "output_type": "execute_result"
    },
    {
     "data": {
      "image/png": "[encoded data removed]",
      "text/plain": [
       "<Figure size 432x288 with 2 Axes>"
      ]
     },
     "metadata": {},
     "output_type": "display_data"
    }
   ],
   "source": [
    "sns.heatmap(enem_selected.isnull(), cmap=\"YlGnBu\")"
   ]
  },
  {
   "cell_type": "markdown",
   "metadata": {},
   "source": [
    "Then, I will check which columns have any null values."
   ]
  },
  {
   "cell_type": "code",
   "execution_count": 179,
   "metadata": {
    "scrolled": true
   },
   "outputs": [
    {
     "data": {
      "text/plain": [
       "Q025            0.990380\n",
       "Q031            0.365347\n",
       "Q032            0.365347\n",
       "Q034            0.356847\n",
       "Q035            0.356847\n",
       "Q040            0.385535\n",
       "Q041            0.385535\n",
       "Q042            0.385535\n",
       "Q043            0.385535\n",
       "Q044            0.385535\n",
       "Q045            0.385535\n",
       "Q046            0.385535\n",
       "Q047            0.385535\n",
       "Q048            0.385535\n",
       "Q049            0.385535\n",
       "Q050            0.385535\n",
       "Q051            0.385535\n",
       "Q052            0.385535\n",
       "Q053            0.385535\n",
       "IDADE           0.000011\n",
       "TP_ESCOLA       0.227571\n",
       "IN_TP_ENSINO    0.227571\n",
       "NOTA_CN         0.291431\n",
       "NOTA_CH         0.291431\n",
       "NOTA_LC         0.312859\n",
       "NOTA_MT         0.312859\n",
       "dtype: float64"
      ]
     },
     "execution_count": 179,
     "metadata": {},
     "output_type": "execute_result"
    }
   ],
   "source": [
    "df_isnull_mean = np.mean(enem_selected.isnull()) \n",
    "df_isnull_mean[df_isnull_mean > 0]"
   ]
  },
  {
   "cell_type": "markdown",
   "metadata": {},
   "source": [
    "Since the features I am interested in analyzing are the scores of the candidates, I will drop observations for which any score is Null for now. I am generally going to drop all other features for which the proportion of Nulls is greater than 0.35 (excluding the scores themselves). I chose to do so because, upon checking what the features tell us about the candidates, I decided that those features where not of particular interest. \n",
    "\n",
    "The school type ('TP_ESCOLA') and the type of institution ('IN_TP_ENSINO') are still interesting and are essential to the analises I wish to make. I will deal with them later."
   ]
  },
  {
   "cell_type": "code",
   "execution_count": 180,
   "metadata": {},
   "outputs": [],
   "source": [
    "col_missing = df_isnull_mean[df_isnull_mean > 0.35].index #obtain the columns that have more than 35% of null values\n",
    "enem_selected = enem_selected.drop(col_missing, axis = 1) #drop these columns\n",
    "\n",
    "obs_missing = enem_selected[(enem_selected['NOTA_CN'].isnull()) | (enem_selected['NOTA_CH'].isnull()) | (enem_selected['NOTA_LC'].isnull()) | (enem_selected['NOTA_MT'].isnull()) | (enem_selected['NU_NOTA_REDACAO'].isnull())].index\n",
    "enem_selected = enem_selected.drop(obs_missing, axis = 0) #obtain observations for which any score is null and drop them\n",
    "\n",
    "med_age = enem_selected['IDADE'].median()\n",
    "enem_selected['IDADE'] = enem_selected['IDADE'].fillna(med_age) #fill the observations with null value for age with the median age"
   ]
  },
  {
   "cell_type": "markdown",
   "metadata": {},
   "source": [
    "I will replace TP_ESCOLA (whether the school is private or public) and IN_TP_ESCOLA (regular, adult education or special school) by the mode value for each income category."
   ]
  },
  {
   "cell_type": "code",
   "execution_count": 181,
   "metadata": {},
   "outputs": [],
   "source": [
    "income_categories = enem_selected['Q003'].unique() #get the income categories from the answer to question Q003\n",
    "enem_selected['TP_ESCOLA'] = enem_selected['TP_ESCOLA'].astype('category') #transform the TP_ESCOLA column (school type) in categorical variable\n",
    "\n",
    "mode_per_category = {} #dict\n",
    "for category in income_categories:\n",
    "    m = enem_selected[enem_selected['Q003'] == category]['TP_ESCOLA'].describe().top #for each income category, obtain the most common school type\n",
    "    mode_per_category[category] = m  #update dictionary\n",
    "    \n",
    "for row in enem_selected[enem_selected['TP_ESCOLA'].isnull()].index: \n",
    "    category = enem_selected.loc[row, 'Q003']\n",
    "    enem_selected.loc[row, 'TP_ESCOLA'] = mode_per_category[category] #substitute null values with the mode for category"
   ]
  },
  {
   "cell_type": "code",
   "execution_count": 182,
   "metadata": {},
   "outputs": [],
   "source": [
    "#Do the same as in the previous cell, but for the IN_TP_ENSINO\n",
    "\n",
    "enem_selected['IN_TP_ENSINO'] = enem_selected['IN_TP_ENSINO'].astype('category')\n",
    "\n",
    "mode_per_category = {}\n",
    "for category in income_categories:\n",
    "    m = enem_selected[enem_selected['Q003'] == category]['IN_TP_ENSINO'].describe().top\n",
    "    mode_per_category[category] = m\n",
    "    \n",
    "for row in enem_selected[enem_selected['IN_TP_ENSINO'].isnull()].index:\n",
    "    category = enem_selected.loc[row, 'Q003']\n",
    "    enem_selected.loc[row, 'IN_TP_ENSINO'] = mode_per_category[category]"
   ]
  },
  {
   "cell_type": "code",
   "execution_count": 183,
   "metadata": {},
   "outputs": [],
   "source": [
    "#enem_selected['NO_MUNICIPIO_RESIDENCIA'] = enem_selected['NO_MUNICIPIO_RESIDENCIA'].str.upper()"
   ]
  },
  {
   "cell_type": "markdown",
   "metadata": {},
   "source": [
    "I will define a new column ('NOTA_MEDIA') with the mean score among the five areas for each candidate. "
   ]
  },
  {
   "cell_type": "code",
   "execution_count": 184,
   "metadata": {},
   "outputs": [],
   "source": [
    "enem_selected['NOTA_MEDIA'] = (enem_selected['NOTA_CN'] + enem_selected['NOTA_CH'] + enem_selected['NOTA_LC'] + enem_selected['NOTA_MT'] + enem_selected['NU_NOTA_REDACAO'])/5 #obtain the average score"
   ]
  },
  {
   "cell_type": "markdown",
   "metadata": {},
   "source": [
    "# Exploratory data analysis\n",
    "\n",
    "In the next two histograms, I am going to check the distribution of scores. In the first one, the distribution is shown regardless of school type. In the second one, however, the candidates were discrimated based on the type of school they attended. 1.0 represents public schools, while 2.0 represents private schools. "
   ]
  },
  {
   "cell_type": "code",
   "execution_count": 185,
   "metadata": {},
   "outputs": [
    {
     "data": {
      "text/plain": [
       "<AxesSubplot:xlabel='NOTA_MEDIA', ylabel='Count'>"
      ]
     },
     "execution_count": 185,
     "metadata": {},
     "output_type": "execute_result"
    },
    {
     "data": {
      "image/png": "[encoded data removed]",
      "text/plain": [
       "<Figure size 432x288 with 1 Axes>"
      ]
     },
     "metadata": {},
     "output_type": "display_data"
    }
   ],
   "source": [
    "sns.histplot(data = enem_selected, x = 'NOTA_MEDIA', bins = 100) #plot the histogram for grades"
   ]
  },
  {
   "cell_type": "code",
   "execution_count": 186,
   "metadata": {},
   "outputs": [
    {
     "data": {
      "text/plain": [
       "<AxesSubplot:xlabel='NOTA_MEDIA', ylabel='Count'>"
      ]
     },
     "execution_count": 186,
     "metadata": {},
     "output_type": "execute_result"
    },
    {
     "data": {
      "image/png": "[encoded data removed]",
      "text/plain": [
       "<Figure size 432x288 with 1 Axes>"
      ]
     },
     "metadata": {},
     "output_type": "display_data"
    }
   ],
   "source": [
    "sns.histplot(data = enem_selected, x = 'NOTA_MEDIA', hue = 'TP_ESCOLA') #plot the histogram for the two different school types: public (1.0) or private (2.0)"
   ]
  },
  {
   "cell_type": "markdown",
   "metadata": {},
   "source": [
    "Notice that the average score for private institutions is significantly higher than for public schools."
   ]
  },
  {
   "cell_type": "markdown",
   "metadata": {},
   "source": [
    "I wish to find out the average scores for different feature categories. I am going to start by calculating the average scores and standard deviation for each school type."
   ]
  },
  {
   "cell_type": "code",
   "execution_count": 187,
   "metadata": {},
   "outputs": [
    {
     "data": {
      "text/plain": [
       "<AxesSubplot:xlabel='TP_ESCOLA', ylabel='NOTA_MEDIA'>"
      ]
     },
     "execution_count": 187,
     "metadata": {},
     "output_type": "execute_result"
    },
    {
     "data": {
      "image/png": "[encoded data removed]",
      "text/plain": [
       "<Figure size 432x288 with 1 Axes>"
      ]
     },
     "metadata": {},
     "output_type": "display_data"
    }
   ],
   "source": [
    "avg_per_type = enem_selected.groupby(['TP_ESCOLA'])[['NOTA_CN', 'NOTA_CH', 'NOTA_LC', 'NOTA_MT', 'NU_NOTA_REDACAO', 'NOTA_MEDIA']].mean()\n",
    "std_per_type = enem_selected.groupby(['TP_ESCOLA'])[['NOTA_CN', 'NOTA_CH', 'NOTA_LC', 'NOTA_MT', 'NU_NOTA_REDACAO', 'NOTA_MEDIA']].std()\n",
    "sns.barplot(x = 'TP_ESCOLA', y = 'NOTA_MEDIA', data = enem_selected, ci='sd') #bar plot of average scores for different types of school"
   ]
  },
  {
   "cell_type": "markdown",
   "metadata": {},
   "source": [
    "We can see that private schools have an average score of over 550 points, while public schools have an average smaller than 500."
   ]
  },
  {
   "cell_type": "markdown",
   "metadata": {},
   "source": [
    "It is also interesting to ask ourselves if there is much variation among states."
   ]
  },
  {
   "cell_type": "code",
   "execution_count": 188,
   "metadata": {},
   "outputs": [
    {
     "data": {
      "text/plain": [
       "<AxesSubplot:xlabel='UF_RESIDENCIA', ylabel='NOTA_MEDIA'>"
      ]
     },
     "execution_count": 188,
     "metadata": {},
     "output_type": "execute_result"
    },
    {
     "data": {
      "image/png": "[encoded data removed]",
      "text/plain": [
       "<Figure size 720x432 with 1 Axes>"
      ]
     },
     "metadata": {},
     "output_type": "display_data"
    }
   ],
   "source": [
    "avg_per_type_state = enem_selected.groupby(['UF_RESIDENCIA'])[['NOTA_CN', 'NOTA_CH', 'NOTA_LC', 'NOTA_MT', 'NU_NOTA_REDACAO', 'NOTA_MEDIA']].mean()\n",
    "std_per_type_state = enem_selected.groupby(['UF_RESIDENCIA'])[['NOTA_CN', 'NOTA_CH', 'NOTA_LC', 'NOTA_MT', 'NU_NOTA_REDACAO', 'NOTA_MEDIA']].std()\n",
    "\n",
    "plt.figure(figsize=(10,6)) \n",
    "enem_selected = enem_selected.sort_values(['UF_RESIDENCIA'])\n",
    "sns.barplot(x = 'UF_RESIDENCIA', y = 'NOTA_MEDIA', data = enem_selected, ci='sd') #bar plot for score distrubution for different States"
   ]
  },
  {
   "cell_type": "markdown",
   "metadata": {},
   "source": [
    "Since there are 26 states plus the Federal District, it is better, for analysis purposes, to divide the states into the five regions in which Brazil is usually divided. Let's analyze it, then:"
   ]
  },
  {
   "cell_type": "code",
   "execution_count": 189,
   "metadata": {},
   "outputs": [
    {
     "data": {
      "text/plain": [
       "<AxesSubplot:xlabel='REGION', ylabel='NOTA_MEDIA'>"
      ]
     },
     "execution_count": 189,
     "metadata": {},
     "output_type": "execute_result"
    },
    {
     "data": {
      "image/png": "[encoded data removed]",
      "text/plain": [
       "<Figure size 720x432 with 1 Axes>"
      ]
     },
     "metadata": {},
     "output_type": "display_data"
    }
   ],
   "source": [
    "region_mapping = {'RS':'Sul', 'SC':'Sul', 'PR':'Sul', 'SP':'Sudeste', 'RJ':'Sudeste', 'MG':'Sudeste', 'ES':'Sudeste', 'BA':'Nordeste', 'SE':'Nordeste', 'AL':'Nordeste', 'PE':'Nordeste', 'PB':'Nordeste', 'RN':'Nordeste', 'CE':'Nordeste', 'MA':'Nordeste', 'PI':'Nordeste', 'MS':'Centro Oeste', 'MT': 'Centro Oeste', 'GO':'Centro Oeste', 'DF':'Centro Oeste', 'AM':'Norte', 'PA':'Norte', 'AC':'Norte', 'RO':'Norte', 'RR':'Norte', 'TO':'Norte', 'AP':'Norte'} #dictionary mapping each state to its region\n",
    "enem_selected['REGION'] = enem_selected['UF_RESIDENCIA'].replace(region_mapping) #creates a column with the region of each candidate\n",
    "\n",
    "plt.figure(figsize=(10,6))\n",
    "sns.barplot(x = 'REGION', y = 'NOTA_MEDIA', data = enem_selected, ci='sd') #bar plot of the score distribution for each region"
   ]
  },
  {
   "cell_type": "markdown",
   "metadata": {},
   "source": [
    "Note that the North is the region that has the smallest average grades, while the Southeast hast the largest. In fact, the only two regions whose average is above 500 points are the Southeast and the South. We can see a significant difference in grades among the regions. "
   ]
  },
  {
   "cell_type": "markdown",
   "metadata": {},
   "source": [
    "It is interesting to investigate how social differences affect the average grade. The next graph shows the differences in average score by ethnicity. Is important to emphasize that racial and socioeconomic factors are strongly correlated in Brazil, as they are in much of the world. People with different ethnic backgrounds may have, in average, different opportunities. That is why it is interesting to see how these differents may be reflected on the average grades by ethnicity."
   ]
  },
  {
   "cell_type": "markdown",
   "metadata": {},
   "source": [
    "The code works as follows: \n",
    "\n",
    "0 - Did not declare ethnicity;\n",
    "\n",
    "1 - Branco;\n",
    "\n",
    "2 - Preto;\n",
    "\n",
    "3 - Pardo;\n",
    "\n",
    "4 - Amarelo;\n",
    "\n",
    "5 - Indígena. \n",
    "\n",
    "I did not translate the ethnicities into English, since they reflect a very specific Brazilian context and translating them would be very misleading. "
   ]
  },
  {
   "cell_type": "code",
   "execution_count": 190,
   "metadata": {},
   "outputs": [
    {
     "data": {
      "text/plain": [
       "<AxesSubplot:xlabel='TP_COR_RACA', ylabel='NOTA_MEDIA'>"
      ]
     },
     "execution_count": 190,
     "metadata": {},
     "output_type": "execute_result"
    },
    {
     "data": {
      "image/png": "[encoded data removed]",
      "text/plain": [
       "<Figure size 720x432 with 1 Axes>"
      ]
     },
     "metadata": {},
     "output_type": "display_data"
    }
   ],
   "source": [
    "avg_per_race = enem_selected.groupby('TP_COR_RACA')[['NOTA_CN', 'NOTA_CH', 'NOTA_LC', 'NOTA_MT', 'NU_NOTA_REDACAO', 'NOTA_MEDIA']].mean()\n",
    "std_per_race = enem_selected.groupby('TP_COR_RACA')[['NOTA_CN', 'NOTA_CH', 'NOTA_LC', 'NOTA_MT', 'NU_NOTA_REDACAO', 'NOTA_MEDIA']].std()\n",
    "\n",
    "plt.figure(figsize=(10,6))\n",
    "sns.barplot(x = 'TP_COR_RACA', y = 'NOTA_MEDIA', data = enem_selected, ci='sd')"
   ]
  },
  {
   "cell_type": "markdown",
   "metadata": {},
   "source": [
    "It is specially interesting to analyze how the grades are distributed according to household income. "
   ]
  },
  {
   "cell_type": "code",
   "execution_count": 191,
   "metadata": {},
   "outputs": [
    {
     "data": {
      "text/plain": [
       "<AxesSubplot:xlabel='Q003', ylabel='NOTA_MEDIA'>"
      ]
     },
     "execution_count": 191,
     "metadata": {},
     "output_type": "execute_result"
    },
    {
     "data": {
      "image/png": "[encoded data removed]",
      "text/plain": [
       "<Figure size 720x432 with 1 Axes>"
      ]
     },
     "metadata": {},
     "output_type": "display_data"
    }
   ],
   "source": [
    "avg_per_income = enem_selected.groupby(['Q003'])[['NOTA_CN', 'NOTA_CH', 'NOTA_LC', 'NOTA_MT', 'NU_NOTA_REDACAO', 'NOTA_MEDIA']].mean()\n",
    "std_per_income = enem_selected.groupby(['Q003'])[['NOTA_CN', 'NOTA_CH', 'NOTA_LC', 'NOTA_MT', 'NU_NOTA_REDACAO', 'NOTA_MEDIA']].std()\n",
    "\n",
    "plt.figure(figsize=(10,6))\n",
    "enem_selected = enem_selected.sort_values(['Q003'])\n",
    "sns.barplot(x = 'Q003', y = 'NOTA_MEDIA', data = enem_selected, ci='sd')"
   ]
  },
  {
   "cell_type": "markdown",
   "metadata": {},
   "source": [
    "It is fascinating to see that the average score increases a lot with the average household income. In fact, every income bracket has an average score greater  Specially, the increase is steeper for the lowest classes."
   ]
  },
  {
   "cell_type": "markdown",
   "metadata": {},
   "source": [
    "Since there are 17 different categories of income, I will change the categories a bit. The categories will become as follows:\n",
    "\n",
    "1 - No income to 1 minimum income;\n",
    "\n",
    "2 - Between 1 and 5 times the minimum income;\n",
    "\n",
    "3 - Between 5 and 10 times the minimum income;\n",
    "\n",
    "4 - Between 10 and 15 times the minimum income;\n",
    "\n",
    "5 - Between 15 and 20 times the minimum income;\n",
    "\n",
    "6 - More than 20 times the minimum income; "
   ]
  },
  {
   "cell_type": "code",
   "execution_count": 192,
   "metadata": {},
   "outputs": [
    {
     "data": {
      "text/plain": [
       "<AxesSubplot:xlabel='RENDA', ylabel='NOTA_MEDIA'>"
      ]
     },
     "execution_count": 192,
     "metadata": {},
     "output_type": "execute_result"
    },
    {
     "data": {
      "image/png": "[encoded data removed]",
      "text/plain": [
       "<Figure size 720x432 with 1 Axes>"
      ]
     },
     "metadata": {},
     "output_type": "display_data"
    }
   ],
   "source": [
    "income_mapping = {'A':1, 'B':1, 'C':2, 'D':2, 'E':2, 'F':2, 'G':2, 'H':2, 'I':3, 'J':3, 'K':3, 'L':3, 'M':3, 'N':4, 'O':4, 'P':5, 'Q':6}\n",
    "enem_selected['RENDA'] = enem_selected['Q003'].replace(income_mapping)\n",
    "plt.figure(figsize=(10,6))\n",
    "enem_selected = enem_selected.sort_values(['RENDA'])\n",
    "sns.barplot(x = 'RENDA', y = 'NOTA_MEDIA', data = enem_selected, ci='sd')"
   ]
  },
  {
   "cell_type": "markdown",
   "metadata": {},
   "source": [
    "With the exploratory data analysis performed above, we could see that there are many general trends in the ENEM scores based on socioeconomic factors. While it may not be very helpful to try to predict the ENEM outcome for one particular individual, it may be interesting to train machine learning models in order to predict the scores and detect general trends. That is what I am going to do in the remainder of this project."
   ]
  },
  {
   "cell_type": "markdown",
   "metadata": {},
   "source": [
    "First, I will transform every categorial column into categorical values (using dummy variables). For that, I will use the LabelEncoder function from sklearn.preprocessing."
   ]
  },
  {
   "cell_type": "code",
   "execution_count": 193,
   "metadata": {},
   "outputs": [],
   "source": [
    "from sklearn.preprocessing import LabelEncoder"
   ]
  },
  {
   "cell_type": "code",
   "execution_count": 194,
   "metadata": {},
   "outputs": [
    {
     "data": {
      "text/plain": [
       "Index(['Q001', 'Q002', 'Q003', 'Q004', 'Q005', 'Q006', 'Q007', 'Q008', 'Q009',\n",
       "       'Q010', 'Q011', 'Q012', 'Q013', 'Q014', 'Q015', 'Q016', 'Q017', 'Q018',\n",
       "       'Q019', 'Q020', 'Q021', 'Q022', 'Q023', 'Q024', 'Q026', 'Q027', 'Q028',\n",
       "       'Q029', 'Q030', 'Q033', 'Q036', 'Q037', 'Q038', 'Q039', 'UF_RESIDENCIA',\n",
       "       'IDADE', 'TP_SEXO', 'NACIONALIDADE', 'TP_ESCOLA', 'IN_TP_ENSINO',\n",
       "       'TP_ESTADO_CIVIL', 'TP_COR_RACA', 'NOTA_CN', 'NOTA_CH', 'NOTA_LC',\n",
       "       'NOTA_MT', 'NU_NOTA_REDACAO', 'NOTA_MEDIA', 'REGION', 'RENDA'],\n",
       "      dtype='object')"
      ]
     },
     "execution_count": 194,
     "metadata": {},
     "output_type": "execute_result"
    }
   ],
   "source": [
    "enem_selected.columns"
   ]
  },
  {
   "cell_type": "code",
   "execution_count": 196,
   "metadata": {},
   "outputs": [],
   "source": [
    "le = LabelEncoder()\n",
    "encoded_enem_selected = enem_selected[['Q001', 'Q002', 'Q003', 'Q004', 'Q005', 'Q006', 'Q007', 'Q008', 'Q009',\n",
    "       'Q010', 'Q011', 'Q012', 'Q013', 'Q014', 'Q015', 'Q016', 'Q017', 'Q018',\n",
    "       'Q019', 'Q020', 'Q021', 'Q022', 'Q023', 'Q024', 'Q026', 'Q027', 'Q028',\n",
    "       'Q029', 'Q030', 'Q033', 'Q036', 'Q037', 'Q038', 'Q039', 'UF_RESIDENCIA', 'TP_SEXO',\n",
    "       'NACIONALIDADE', 'TP_ESCOLA', 'IN_TP_ENSINO', 'TP_ESTADO_CIVIL',\n",
    "       'TP_COR_RACA']].apply(le.fit_transform)\n",
    "\n",
    "encoded_enem_selected[['IDADE', 'NOTA_CN', 'NOTA_CH', 'NOTA_LC', 'NOTA_MT',\n",
    "       'NU_NOTA_REDACAO', 'NOTA_MEDIA']] = enem_selected[['IDADE', 'NOTA_CN', 'NOTA_CH', 'NOTA_LC', 'NOTA_MT',\n",
    "       'NU_NOTA_REDACAO', 'NOTA_MEDIA']]"
   ]
  },
  {
   "cell_type": "markdown",
   "metadata": {},
   "source": [
    "Firstly, I will use a tree model in order to predict the scores. This seems to be particularly interesting in this case, due to the presence of several categorical variables. I wil use a random forest model. "
   ]
  },
  {
   "cell_type": "markdown",
   "metadata": {},
   "source": [
    "# Tree model"
   ]
  },
  {
   "cell_type": "code",
   "execution_count": 197,
   "metadata": {},
   "outputs": [],
   "source": [
    "from sklearn.model_selection import train_test_split\n",
    "\n",
    "X = encoded_enem_selected[['Q001', 'Q002', 'Q003', 'Q004', 'Q005', 'Q006', 'Q007', 'Q008', 'Q009',\n",
    "       'Q010', 'Q011', 'Q012', 'Q013', 'Q014', 'Q015', 'Q016', 'Q017', 'Q018',\n",
    "       'Q019', 'Q020', 'Q021', 'Q022', 'Q023', 'Q024', 'Q026', 'Q027', 'Q028',\n",
    "       'Q029', 'Q030', 'Q033', 'Q036', 'Q037', 'Q038', 'Q039', 'UF_RESIDENCIA', 'IDADE', 'TP_SEXO',\n",
    "       'NACIONALIDADE', 'TP_ESCOLA', 'IN_TP_ENSINO', 'TP_ESTADO_CIVIL',\n",
    "       'TP_COR_RACA']]\n",
    "y = encoded_enem_selected['NOTA_MEDIA']\n",
    "\n",
    "X_train, X_test, y_train, y_test = train_test_split(X, y, test_size=0.05, random_state=42)"
   ]
  },
  {
   "cell_type": "markdown",
   "metadata": {},
   "source": [
    "I will decide what is the ideal number of estimators for our random forest. For that, I will calculate the root mean squared error as a function of the number of estimators. For this part, I only used 100,000 observations, due to the large computational cost. "
   ]
  },
  {
   "cell_type": "code",
   "execution_count": null,
   "metadata": {},
   "outputs": [],
   "source": [
    "from sklearn.ensemble import RandomForestRegressor\n",
    "from sklearn import metrics\n",
    "\n",
    "random_forest = []\n",
    "\n",
    "for i in  range(1, 60):\n",
    "    rfr = RandomForestRegressor(n_estimators = i)\n",
    "    rfr.fit(X_train, y_train)\n",
    "    rfr_pred = rfr.predict(X_test)\n",
    "    random_forest.append([i, np.sqrt(metrics.mean_squared_error(y_test, rfr_pred))])"
   ]
  },
  {
   "cell_type": "code",
   "execution_count": 133,
   "metadata": {},
   "outputs": [
    {
     "data": {
      "text/plain": [
       "<AxesSubplot:xlabel='i', ylabel='Root mean squared error'>"
      ]
     },
     "execution_count": 133,
     "metadata": {},
     "output_type": "execute_result"
    },
    {
     "data": {
      "image/png": "[encoded data removed]",
      "text/plain": [
       "<Figure size 432x288 with 1 Axes>"
      ]
     },
     "metadata": {},
     "output_type": "display_data"
    }
   ],
   "source": [
    "random_forest_pd = pd.DataFrame(random_forest, columns = ['i', 'Root mean squared error'])\n",
    "sns.lineplot(x = 'i', y = 'Root mean squared error', data = random_forest_pd)"
   ]
  },
  {
   "cell_type": "markdown",
   "metadata": {},
   "source": [
    "I will chose i = 40 for the number of estimators, since the MSE does not seem to decrease much after that."
   ]
  },
  {
   "cell_type": "code",
   "execution_count": 129,
   "metadata": {},
   "outputs": [],
   "source": [
    "rfr = RandomForestRegressor(n_estimators = 40)\n",
    "rfr.fit(X_train, y_train)\n",
    "rfr_pred = rfr.predict(X_test)\n",
    "random_forest.append([i, np.sqrt(metrics.mean_squared_error(y_test, rfr_pred))])"
   ]
  },
  {
   "cell_type": "code",
   "execution_count": 130,
   "metadata": {},
   "outputs": [
    {
     "name": "stdout",
     "output_type": "stream",
     "text": [
      "MAE: 51.95989942038495\n",
      "MSE: 4284.363612601557\n",
      "RMSE: 65.45505032158754\n"
     ]
    }
   ],
   "source": [
    "print('MAE:', metrics.mean_absolute_error(y_test, rfr_pred)) #Mean absolute error\n",
    "print('MSE:', metrics.mean_squared_error(y_test, rfr_pred)) #Mean squared error\n",
    "print('RMSE:', np.sqrt(metrics.mean_squared_error(y_test, rfr_pred))) #Root mean squared error"
   ]
  },
  {
   "cell_type": "code",
   "execution_count": 123,
   "metadata": {},
   "outputs": [],
   "source": [
    "rfr_pred_df = pd.DataFrame(rfr_pred)\n",
    "rfr_pred_df.columns = ['PREDICAO']\n",
    "rfr_pred_df.index = y_test.index"
   ]
  },
  {
   "cell_type": "code",
   "execution_count": 134,
   "metadata": {},
   "outputs": [
    {
     "name": "stdout",
     "output_type": "stream",
     "text": [
      "       NOTA_MEDIA    PREDICAO\n",
      "23760      473.46  579.921714\n",
      "61217      490.30  542.000000\n",
      "87315      529.70  604.058286\n",
      "68766      549.58  490.460571\n",
      "98455      645.46  593.480571\n",
      "...           ...         ...\n",
      "20782      375.94  483.808571\n",
      "52951      485.18  529.464571\n",
      "39510      570.10  520.918857\n",
      "46041      516.88  491.067429\n",
      "18940      414.56  474.525714\n",
      "\n",
      "[3810 rows x 2 columns]\n"
     ]
    }
   ],
   "source": [
    "y_rfr = pd.concat([y_test, rfr_pred_df], axis = 1)\n",
    "print(y_rfr)"
   ]
  },
  {
   "cell_type": "code",
   "execution_count": 135,
   "metadata": {},
   "outputs": [
    {
     "data": {
      "text/plain": [
       "<AxesSubplot:xlabel='NOTA_MEDIA', ylabel='PREDICAO'>"
      ]
     },
     "execution_count": 135,
     "metadata": {},
     "output_type": "execute_result"
    },
    {
     "data": {
      "image/png": "[encoded data removed]",
      "text/plain": [
       "<Figure size 432x288 with 1 Axes>"
      ]
     },
     "metadata": {},
     "output_type": "display_data"
    }
   ],
   "source": [
    "sns.scatterplot(data = y_rfr, x = 'NOTA_MEDIA', y = 'PREDICAO')"
   ]
  },
  {
   "cell_type": "markdown",
   "metadata": {},
   "source": [
    "Some comments: the model was wrong, in average, buy 51.9 points. The root mean squared error was 65.5 points. The graph shows that, although the model does not perfectly predict the scores (and no one said that it should!), it is good at detecting general trends. The most important result is that there is something to be learned by our model. The scores are not completely random. Although the features chosen here do not perfectly predict the scores (as already expected), they are correlated to the final score - and the fact that the model was able to learn how to predict scores to a certain extent shows this."
   ]
  },
  {
   "cell_type": "markdown",
   "metadata": {},
   "source": [
    "I will also use a neural network and compare it to the tree model. "
   ]
  },
  {
   "cell_type": "markdown",
   "metadata": {},
   "source": [
    "# Neural Network"
   ]
  },
  {
   "cell_type": "code",
   "execution_count": 136,
   "metadata": {},
   "outputs": [],
   "source": [
    "import tensorflow as tf\n",
    "from tensorflow import keras\n",
    "from tensorflow.keras import layers\n",
    "from tensorflow.keras import Sequential\n",
    "from tensorflow.keras.layers import Dense"
   ]
  },
  {
   "cell_type": "code",
   "execution_count": 163,
   "metadata": {},
   "outputs": [],
   "source": [
    "model = Sequential()\n",
    "model.add(Dense(8, activation = 'relu'))\n",
    "model.add(Dense(8, activation = 'relu'))\n",
    "model.add(Dense(10, activation = 'relu'))\n",
    "model.add(Dense(10, activation = 'relu'))\n",
    "model.add(Dense(10, activation = 'relu'))\n",
    "model.add(Dense(1))"
   ]
  },
  {
   "cell_type": "code",
   "execution_count": 164,
   "metadata": {},
   "outputs": [],
   "source": [
    "model.compile(optimizer = 'Adam', loss = 'mse')"
   ]
  },
  {
   "cell_type": "code",
   "execution_count": 165,
   "metadata": {
    "scrolled": true
   },
   "outputs": [
    {
     "name": "stdout",
     "output_type": "stream",
     "text": [
      "Epoch 1/200\n",
      "2263/2263 [==============================] - 2s 612us/step - loss: 53198.0351\n",
      "Epoch 2/200\n",
      "2263/2263 [==============================] - 1s 609us/step - loss: 6760.9084\n",
      "Epoch 3/200\n",
      "2263/2263 [==============================] - 1s 612us/step - loss: 6203.0369\n",
      "Epoch 4/200\n",
      "2263/2263 [==============================] - 1s 611us/step - loss: 6010.8242\n",
      "Epoch 5/200\n",
      "2263/2263 [==============================] - 1s 612us/step - loss: 5887.3935\n",
      "Epoch 6/200\n",
      "2263/2263 [==============================] - 1s 611us/step - loss: 5802.2626\n",
      "Epoch 7/200\n",
      "2263/2263 [==============================] - 1s 629us/step - loss: 5675.1229\n",
      "Epoch 8/200\n",
      "2263/2263 [==============================] - 2s 727us/step - loss: 5595.7849\n",
      "Epoch 9/200\n",
      "2263/2263 [==============================] - 2s 735us/step - loss: 5571.1232\n",
      "Epoch 10/200\n",
      "2263/2263 [==============================] - 1s 610us/step - loss: 5463.5848\n",
      "Epoch 11/200\n",
      "2263/2263 [==============================] - 1s 661us/step - loss: 5402.5541\n",
      "Epoch 12/200\n",
      "2263/2263 [==============================] - 1s 598us/step - loss: 5286.9145\n",
      "Epoch 13/200\n",
      "2263/2263 [==============================] - 1s 604us/step - loss: 5215.4369\n",
      "Epoch 14/200\n",
      "2263/2263 [==============================] - 1s 608us/step - loss: 5199.0730\n",
      "Epoch 15/200\n",
      "2263/2263 [==============================] - 1s 604us/step - loss: 5066.4445\n",
      "Epoch 16/200\n",
      "2263/2263 [==============================] - 1s 622us/step - loss: 5056.1881\n",
      "Epoch 17/200\n",
      "2263/2263 [==============================] - 1s 610us/step - loss: 4913.1985\n",
      "Epoch 18/200\n",
      "2263/2263 [==============================] - 1s 601us/step - loss: 4855.2101\n",
      "Epoch 19/200\n",
      "2263/2263 [==============================] - 1s 601us/step - loss: 4823.6443\n",
      "Epoch 20/200\n",
      "2263/2263 [==============================] - 1s 602us/step - loss: 4763.5030\n",
      "Epoch 21/200\n",
      "2263/2263 [==============================] - 1s 616us/step - loss: 4744.8018\n",
      "Epoch 22/200\n",
      "2263/2263 [==============================] - 1s 605us/step - loss: 4601.6848\n",
      "Epoch 23/200\n",
      "2263/2263 [==============================] - 1s 605us/step - loss: 4656.1413\n",
      "Epoch 24/200\n",
      "2263/2263 [==============================] - 1s 606us/step - loss: 4562.8917\n",
      "Epoch 25/200\n",
      "2263/2263 [==============================] - 1s 606us/step - loss: 4579.3075\n",
      "Epoch 26/200\n",
      "2263/2263 [==============================] - 1s 600us/step - loss: 4518.7329\n",
      "Epoch 27/200\n",
      "2263/2263 [==============================] - 1s 601us/step - loss: 4488.4572\n",
      "Epoch 28/200\n",
      "2263/2263 [==============================] - 1s 610us/step - loss: 4453.8528\n",
      "Epoch 29/200\n",
      "2263/2263 [==============================] - 1s 601us/step - loss: 4526.7175\n",
      "Epoch 30/200\n",
      "2263/2263 [==============================] - 1s 608us/step - loss: 4407.9063\n",
      "Epoch 31/200\n",
      "2263/2263 [==============================] - 1s 604us/step - loss: 4389.1215\n",
      "Epoch 32/200\n",
      "2263/2263 [==============================] - 1s 606us/step - loss: 4411.0825\n",
      "Epoch 33/200\n",
      "2263/2263 [==============================] - 1s 606us/step - loss: 4439.6082\n",
      "Epoch 34/200\n",
      "2263/2263 [==============================] - 1s 605us/step - loss: 4417.1492\n",
      "Epoch 35/200\n",
      "2263/2263 [==============================] - 1s 614us/step - loss: 4387.3665\n",
      "Epoch 36/200\n",
      "2263/2263 [==============================] - 1s 605us/step - loss: 4333.7173\n",
      "Epoch 37/200\n",
      "2263/2263 [==============================] - 1s 618us/step - loss: 4365.6167\n",
      "Epoch 38/200\n",
      "2263/2263 [==============================] - 1s 606us/step - loss: 4360.6451\n",
      "Epoch 39/200\n",
      "2263/2263 [==============================] - 1s 609us/step - loss: 4397.5895\n",
      "Epoch 40/200\n",
      "2263/2263 [==============================] - 1s 607us/step - loss: 4350.5585\n",
      "Epoch 41/200\n",
      "2263/2263 [==============================] - 1s 603us/step - loss: 4338.8880\n",
      "Epoch 42/200\n",
      "2263/2263 [==============================] - 1s 618us/step - loss: 4319.1584\n",
      "Epoch 43/200\n",
      "2263/2263 [==============================] - 1s 609us/step - loss: 4361.2788\n",
      "Epoch 44/200\n",
      "2263/2263 [==============================] - 1s 605us/step - loss: 4318.1691\n",
      "Epoch 45/200\n",
      "2263/2263 [==============================] - 1s 610us/step - loss: 4302.5913\n",
      "Epoch 46/200\n",
      "2263/2263 [==============================] - 1s 608us/step - loss: 4322.5819\n",
      "Epoch 47/200\n",
      "2263/2263 [==============================] - 1s 609us/step - loss: 4402.6696\n",
      "Epoch 48/200\n",
      "2263/2263 [==============================] - 1s 612us/step - loss: 4346.7244\n",
      "Epoch 49/200\n",
      "2263/2263 [==============================] - 1s 610us/step - loss: 4312.6667\n",
      "Epoch 50/200\n",
      "2263/2263 [==============================] - 1s 615us/step - loss: 4306.9459\n",
      "Epoch 51/200\n",
      "2263/2263 [==============================] - 1s 611us/step - loss: 4284.7778\n",
      "Epoch 52/200\n",
      "2263/2263 [==============================] - 1s 614us/step - loss: 4301.1148\n",
      "Epoch 53/200\n",
      "2263/2263 [==============================] - 1s 609us/step - loss: 4270.5957\n",
      "Epoch 54/200\n",
      "2263/2263 [==============================] - 1s 611us/step - loss: 4294.0760\n",
      "Epoch 55/200\n",
      "2263/2263 [==============================] - 1s 609us/step - loss: 4270.1980\n",
      "Epoch 56/200\n",
      "2263/2263 [==============================] - 1s 663us/step - loss: 4289.3087\n",
      "Epoch 57/200\n",
      "2263/2263 [==============================] - 1s 613us/step - loss: 4278.0997\n",
      "Epoch 58/200\n",
      "2263/2263 [==============================] - 1s 619us/step - loss: 4258.0397\n",
      "Epoch 59/200\n",
      "2263/2263 [==============================] - 1s 611us/step - loss: 4292.0082\n",
      "Epoch 60/200\n",
      "2263/2263 [==============================] - 1s 617us/step - loss: 4313.2749\n",
      "Epoch 61/200\n",
      "2263/2263 [==============================] - 1s 618us/step - loss: 4296.8377\n",
      "Epoch 62/200\n",
      "2263/2263 [==============================] - 1s 615us/step - loss: 4304.4977\n",
      "Epoch 63/200\n",
      "2263/2263 [==============================] - 1s 613us/step - loss: 4264.3703\n",
      "Epoch 64/200\n",
      "2263/2263 [==============================] - 1s 619us/step - loss: 4267.7407\n",
      "Epoch 65/200\n",
      "2263/2263 [==============================] - 1s 617us/step - loss: 4295.4979\n",
      "Epoch 66/200\n",
      "2263/2263 [==============================] - 1s 613us/step - loss: 4280.9182\n",
      "Epoch 67/200\n",
      "2263/2263 [==============================] - 1s 608us/step - loss: 4361.3422\n",
      "Epoch 68/200\n",
      "2263/2263 [==============================] - 1s 617us/step - loss: 4269.6861\n",
      "Epoch 69/200\n",
      "2263/2263 [==============================] - 1s 614us/step - loss: 4329.1500\n",
      "Epoch 70/200\n",
      "2263/2263 [==============================] - 1s 614us/step - loss: 4281.5325\n",
      "Epoch 71/200\n",
      "2263/2263 [==============================] - 1s 616us/step - loss: 4250.4111\n",
      "Epoch 72/200\n",
      "2263/2263 [==============================] - 1s 631us/step - loss: 4311.6325\n",
      "Epoch 73/200\n",
      "2263/2263 [==============================] - 1s 625us/step - loss: 4280.3308\n",
      "Epoch 74/200\n",
      "2263/2263 [==============================] - 1s 616us/step - loss: 4250.2154\n",
      "Epoch 75/200\n",
      "2263/2263 [==============================] - 1s 621us/step - loss: 4237.7181\n",
      "Epoch 76/200\n",
      "2263/2263 [==============================] - 1s 619us/step - loss: 4303.1815\n",
      "Epoch 77/200\n",
      "2263/2263 [==============================] - 1s 616us/step - loss: 4244.1706\n",
      "Epoch 78/200\n",
      "2263/2263 [==============================] - 1s 614us/step - loss: 4259.6415\n",
      "Epoch 79/200\n",
      "2263/2263 [==============================] - 1s 631us/step - loss: 4263.5969\n",
      "Epoch 80/200\n",
      "2263/2263 [==============================] - 1s 618us/step - loss: 4252.9866\n",
      "Epoch 81/200\n",
      "2263/2263 [==============================] - 1s 618us/step - loss: 4266.7988\n",
      "Epoch 82/200\n",
      "2263/2263 [==============================] - 1s 622us/step - loss: 4291.7310\n",
      "Epoch 83/200\n",
      "2263/2263 [==============================] - 1s 621us/step - loss: 4274.0817\n",
      "Epoch 84/200\n",
      "2263/2263 [==============================] - 1s 613us/step - loss: 4275.8306\n",
      "Epoch 85/200\n",
      "2263/2263 [==============================] - 1s 613us/step - loss: 4241.4386\n",
      "Epoch 86/200\n",
      "2263/2263 [==============================] - 1s 620us/step - loss: 4302.1742\n",
      "Epoch 87/200\n",
      "2263/2263 [==============================] - 1s 618us/step - loss: 4306.6530\n",
      "Epoch 88/200\n",
      "2263/2263 [==============================] - 1s 623us/step - loss: 4256.8044\n",
      "Epoch 89/200\n",
      "2263/2263 [==============================] - 1s 619us/step - loss: 4261.6047\n",
      "Epoch 90/200\n",
      "2263/2263 [==============================] - 1s 623us/step - loss: 4229.0408\n",
      "Epoch 91/200\n",
      "2263/2263 [==============================] - 1s 619us/step - loss: 4246.1657\n",
      "Epoch 92/200\n"
     ]
    },
    {
     "name": "stdout",
     "output_type": "stream",
     "text": [
      "2263/2263 [==============================] - 1s 597us/step - loss: 4299.0318\n",
      "Epoch 93/200\n",
      "2263/2263 [==============================] - 1s 623us/step - loss: 4276.7242\n",
      "Epoch 94/200\n",
      "2263/2263 [==============================] - 2s 779us/step - loss: 4289.4569\n",
      "Epoch 95/200\n",
      "2263/2263 [==============================] - 3s 1ms/step - loss: 4256.3079\n",
      "Epoch 96/200\n",
      "2263/2263 [==============================] - 3s 2ms/step - loss: 4202.4541\n",
      "Epoch 97/200\n",
      "2263/2263 [==============================] - 3s 1ms/step - loss: 4284.5791\n",
      "Epoch 98/200\n",
      "2263/2263 [==============================] - 3s 1ms/step - loss: 4336.8777\n",
      "Epoch 99/200\n",
      "2263/2263 [==============================] - 3s 1ms/step - loss: 4241.9020\n",
      "Epoch 100/200\n",
      "2263/2263 [==============================] - 3s 1ms/step - loss: 4271.0602\n",
      "Epoch 101/200\n",
      "2263/2263 [==============================] - 3s 1ms/step - loss: 4246.5101\n",
      "Epoch 102/200\n",
      "2263/2263 [==============================] - 3s 1ms/step - loss: 4263.6760\n",
      "Epoch 103/200\n",
      "2263/2263 [==============================] - 3s 1ms/step - loss: 4251.0834\n",
      "Epoch 104/200\n",
      "2263/2263 [==============================] - 4s 2ms/step - loss: 4270.2780\n",
      "Epoch 105/200\n",
      "2263/2263 [==============================] - 3s 1ms/step - loss: 4211.0619\n",
      "Epoch 106/200\n",
      "2263/2263 [==============================] - 3s 1ms/step - loss: 4290.9316\n",
      "Epoch 107/200\n",
      "2263/2263 [==============================] - 3s 1ms/step - loss: 4289.0573\n",
      "Epoch 108/200\n",
      "2263/2263 [==============================] - 3s 1ms/step - loss: 4277.7349\n",
      "Epoch 109/200\n",
      "2263/2263 [==============================] - 3s 1ms/step - loss: 4257.8000\n",
      "Epoch 110/200\n",
      "2263/2263 [==============================] - 3s 1ms/step - loss: 4305.5715\n",
      "Epoch 111/200\n",
      "2263/2263 [==============================] - 3s 1ms/step - loss: 4305.1583\n",
      "Epoch 112/200\n",
      "2263/2263 [==============================] - 3s 1ms/step - loss: 4243.3810\n",
      "Epoch 113/200\n",
      "2263/2263 [==============================] - 3s 1ms/step - loss: 4281.8650\n",
      "Epoch 114/200\n",
      "2263/2263 [==============================] - 2s 894us/step - loss: 4295.5890\n",
      "Epoch 115/200\n",
      "2263/2263 [==============================] - 1s 604us/step - loss: 4259.3540\n",
      "Epoch 116/200\n",
      "2263/2263 [==============================] - 1s 606us/step - loss: 4294.4588\n",
      "Epoch 117/200\n",
      "2263/2263 [==============================] - 1s 609us/step - loss: 4270.3854\n",
      "Epoch 118/200\n",
      "2263/2263 [==============================] - 1s 604us/step - loss: 4250.7140\n",
      "Epoch 119/200\n",
      "2263/2263 [==============================] - 1s 604us/step - loss: 4255.4729\n",
      "Epoch 120/200\n",
      "2263/2263 [==============================] - 1s 606us/step - loss: 4299.7610\n",
      "Epoch 121/200\n",
      "2263/2263 [==============================] - 1s 609us/step - loss: 4277.7051\n",
      "Epoch 122/200\n",
      "2263/2263 [==============================] - 1s 605us/step - loss: 4251.4451\n",
      "Epoch 123/200\n",
      "2263/2263 [==============================] - 1s 606us/step - loss: 4236.2587\n",
      "Epoch 124/200\n",
      "2263/2263 [==============================] - 1s 610us/step - loss: 4261.7899\n",
      "Epoch 125/200\n",
      "2263/2263 [==============================] - 1s 605us/step - loss: 4246.1668\n",
      "Epoch 126/200\n",
      "2263/2263 [==============================] - 1s 609us/step - loss: 4267.3051\n",
      "Epoch 127/200\n",
      "2263/2263 [==============================] - 1s 612us/step - loss: 4259.9661\n",
      "Epoch 128/200\n",
      "2263/2263 [==============================] - 1s 605us/step - loss: 4261.7589\n",
      "Epoch 129/200\n",
      "2263/2263 [==============================] - 1s 609us/step - loss: 4227.9274\n",
      "Epoch 130/200\n",
      "2263/2263 [==============================] - 1s 617us/step - loss: 4231.7958\n",
      "Epoch 131/200\n",
      "2263/2263 [==============================] - 1s 601us/step - loss: 4280.7329\n",
      "Epoch 132/200\n",
      "2263/2263 [==============================] - 1s 596us/step - loss: 4307.4601\n",
      "Epoch 133/200\n",
      "2263/2263 [==============================] - 1s 598us/step - loss: 4230.8790\n",
      "Epoch 134/200\n",
      "2263/2263 [==============================] - 1s 596us/step - loss: 4297.0446\n",
      "Epoch 135/200\n",
      "2263/2263 [==============================] - 1s 602us/step - loss: 4261.1882\n",
      "Epoch 136/200\n",
      "2263/2263 [==============================] - 1s 594us/step - loss: 4249.2520\n",
      "Epoch 137/200\n",
      "2263/2263 [==============================] - 1s 594us/step - loss: 4268.8053\n",
      "Epoch 138/200\n",
      "2263/2263 [==============================] - 1s 594us/step - loss: 4230.0896\n",
      "Epoch 139/200\n",
      "2263/2263 [==============================] - 1s 598us/step - loss: 4243.2570\n",
      "Epoch 140/200\n",
      "2263/2263 [==============================] - 1s 598us/step - loss: 4240.7736\n",
      "Epoch 141/200\n",
      "2263/2263 [==============================] - 1s 600us/step - loss: 4256.3583\n",
      "Epoch 142/200\n",
      "2263/2263 [==============================] - 1s 598us/step - loss: 4249.6853\n",
      "Epoch 143/200\n",
      "2263/2263 [==============================] - 1s 599us/step - loss: 4214.4450\n",
      "Epoch 144/200\n",
      "2263/2263 [==============================] - 1s 601us/step - loss: 4271.3329\n",
      "Epoch 145/200\n",
      "2263/2263 [==============================] - 1s 605us/step - loss: 4265.4037\n",
      "Epoch 146/200\n",
      "2263/2263 [==============================] - 1s 652us/step - loss: 4316.3279\n",
      "Epoch 147/200\n",
      "2263/2263 [==============================] - 2s 694us/step - loss: 4221.5162\n",
      "Epoch 148/200\n",
      "2263/2263 [==============================] - 1s 602us/step - loss: 4268.0120\n",
      "Epoch 149/200\n",
      "2263/2263 [==============================] - 1s 601us/step - loss: 4228.9330\n",
      "Epoch 150/200\n",
      "2263/2263 [==============================] - 1s 600us/step - loss: 4283.4137\n",
      "Epoch 151/200\n",
      "2263/2263 [==============================] - 1s 600us/step - loss: 4245.7019\n",
      "Epoch 152/200\n",
      "2263/2263 [==============================] - 1s 599us/step - loss: 4273.8932\n",
      "Epoch 153/200\n",
      "2263/2263 [==============================] - 2s 721us/step - loss: 4312.9360\n",
      "Epoch 154/200\n",
      "2263/2263 [==============================] - 2s 837us/step - loss: 4260.1831\n",
      "Epoch 155/200\n",
      "2263/2263 [==============================] - 1s 611us/step - loss: 4247.5843\n",
      "Epoch 156/200\n",
      "2263/2263 [==============================] - 1s 659us/step - loss: 4213.9631\n",
      "Epoch 157/200\n",
      "2263/2263 [==============================] - 1s 597us/step - loss: 4250.6006\n",
      "Epoch 158/200\n",
      "2263/2263 [==============================] - 1s 602us/step - loss: 4281.3274\n",
      "Epoch 159/200\n",
      "2263/2263 [==============================] - 1s 602us/step - loss: 4255.2345\n",
      "Epoch 160/200\n",
      "2263/2263 [==============================] - 1s 610us/step - loss: 4273.2147\n",
      "Epoch 161/200\n",
      "2263/2263 [==============================] - 1s 601us/step - loss: 4189.1914\n",
      "Epoch 162/200\n",
      "2263/2263 [==============================] - 1s 602us/step - loss: 4282.4951\n",
      "Epoch 163/200\n",
      "2263/2263 [==============================] - 1s 612us/step - loss: 4282.7698\n",
      "Epoch 164/200\n",
      "2263/2263 [==============================] - 1s 602us/step - loss: 4269.8135\n",
      "Epoch 165/200\n",
      "2263/2263 [==============================] - 1s 601us/step - loss: 4246.3242\n",
      "Epoch 166/200\n",
      "2263/2263 [==============================] - 1s 606us/step - loss: 4243.4254\n",
      "Epoch 167/200\n",
      "2263/2263 [==============================] - 1s 603us/step - loss: 4251.0723\n",
      "Epoch 168/200\n",
      "2263/2263 [==============================] - 1s 599us/step - loss: 4237.4856\n",
      "Epoch 169/200\n",
      "2263/2263 [==============================] - 1s 603us/step - loss: 4226.1412\n",
      "Epoch 170/200\n",
      "2263/2263 [==============================] - 2s 761us/step - loss: 4217.9799\n",
      "Epoch 171/200\n",
      "2263/2263 [==============================] - 3s 1ms/step - loss: 4200.9320\n",
      "Epoch 172/200\n",
      "2263/2263 [==============================] - 3s 1ms/step - loss: 4253.4741\n",
      "Epoch 173/200\n",
      "2263/2263 [==============================] - 3s 1ms/step - loss: 4243.6366\n",
      "Epoch 174/200\n",
      "2263/2263 [==============================] - 3s 1ms/step - loss: 4217.0762\n",
      "Epoch 175/200\n",
      "2263/2263 [==============================] - 3s 1ms/step - loss: 4236.0194\n",
      "Epoch 176/200\n",
      "2263/2263 [==============================] - 3s 1ms/step - loss: 4248.3271\n",
      "Epoch 177/200\n",
      "2263/2263 [==============================] - 3s 1ms/step - loss: 4242.3506\n",
      "Epoch 178/200\n",
      "2263/2263 [==============================] - 3s 1ms/step - loss: 4180.5380\n",
      "Epoch 179/200\n",
      "2263/2263 [==============================] - 3s 1ms/step - loss: 4208.0274\n",
      "Epoch 180/200\n",
      "2263/2263 [==============================] - 3s 2ms/step - loss: 4210.4385\n",
      "Epoch 181/200\n",
      "2263/2263 [==============================] - 3s 1ms/step - loss: 4243.7207\n",
      "Epoch 182/200\n"
     ]
    },
    {
     "name": "stdout",
     "output_type": "stream",
     "text": [
      "2263/2263 [==============================] - 3s 1ms/step - loss: 4249.9379\n",
      "Epoch 183/200\n",
      "2263/2263 [==============================] - 3s 1ms/step - loss: 4240.1556\n",
      "Epoch 184/200\n",
      "2263/2263 [==============================] - 3s 1ms/step - loss: 4270.5424\n",
      "Epoch 185/200\n",
      "2263/2263 [==============================] - 3s 1ms/step - loss: 4223.7127\n",
      "Epoch 186/200\n",
      "2263/2263 [==============================] - 3s 1ms/step - loss: 4198.0559\n",
      "Epoch 187/200\n",
      "2263/2263 [==============================] - 1s 603us/step - loss: 4264.2521\n",
      "Epoch 188/200\n",
      "2263/2263 [==============================] - 1s 604us/step - loss: 4242.7236\n",
      "Epoch 189/200\n",
      "2263/2263 [==============================] - 1s 604us/step - loss: 4254.0975\n",
      "Epoch 190/200\n",
      "2263/2263 [==============================] - 1s 602us/step - loss: 4232.7308\n",
      "Epoch 191/200\n",
      "2263/2263 [==============================] - 1s 604us/step - loss: 4239.4758\n",
      "Epoch 192/200\n",
      "2263/2263 [==============================] - 1s 613us/step - loss: 4205.1304\n",
      "Epoch 193/200\n",
      "2263/2263 [==============================] - 1s 605us/step - loss: 4279.7503\n",
      "Epoch 194/200\n",
      "2263/2263 [==============================] - 1s 606us/step - loss: 4209.7772\n",
      "Epoch 195/200\n",
      "2263/2263 [==============================] - 1s 605us/step - loss: 4280.8454\n",
      "Epoch 196/200\n",
      "2263/2263 [==============================] - 1s 606us/step - loss: 4255.1667\n",
      "Epoch 197/200\n",
      "2263/2263 [==============================] - 1s 606us/step - loss: 4215.6737\n",
      "Epoch 198/200\n",
      "2263/2263 [==============================] - 1s 607us/step - loss: 4241.8210\n",
      "Epoch 199/200\n",
      "2263/2263 [==============================] - 1s 608us/step - loss: 4248.8609\n",
      "Epoch 200/200\n",
      "2263/2263 [==============================] - 1s 608us/step - loss: 4202.2909\n"
     ]
    },
    {
     "data": {
      "text/plain": [
       "<tensorflow.python.keras.callbacks.History at 0x232d392c610>"
      ]
     },
     "execution_count": 165,
     "metadata": {},
     "output_type": "execute_result"
    }
   ],
   "source": [
    "model.fit(x = X_train, y = y_train, epochs = 300)"
   ]
  },
  {
   "cell_type": "code",
   "execution_count": 166,
   "metadata": {},
   "outputs": [],
   "source": [
    "nn_pred = model.predict(X_test)"
   ]
  },
  {
   "cell_type": "code",
   "execution_count": 167,
   "metadata": {},
   "outputs": [],
   "source": [
    "nn_pred_df = pd.DataFrame(nn_pred, columns = ['PREDICAO'])"
   ]
  },
  {
   "cell_type": "code",
   "execution_count": 168,
   "metadata": {},
   "outputs": [],
   "source": [
    "y_nn = pd.concat([y_test, nn_pred_df], axis = 1)"
   ]
  },
  {
   "cell_type": "code",
   "execution_count": 169,
   "metadata": {},
   "outputs": [
    {
     "name": "stdout",
     "output_type": "stream",
     "text": [
      "MAE: 51.77584994803201\n",
      "MSE: 4238.757016435666\n",
      "RMSE: 65.10573720061593\n"
     ]
    }
   ],
   "source": [
    "print('MAE:', metrics.mean_absolute_error(y_test, nn_pred))\n",
    "print('MSE:', metrics.mean_squared_error(y_test, nn_pred))\n",
    "print('RMSE:', np.sqrt(metrics.mean_squared_error(y_test, nn_pred)))"
   ]
  },
  {
   "cell_type": "code",
   "execution_count": null,
   "metadata": {},
   "outputs": [],
   "source": []
  }
 ],
 "metadata": {
  "kernelspec": {
   "display_name": "Python 3",
   "language": "python",
   "name": "python3"
  }
 },
 "nbformat": 4,
 "nbformat_minor": 4
}
